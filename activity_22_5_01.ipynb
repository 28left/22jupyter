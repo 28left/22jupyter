{
 "cells": [
  {
   "cell_type": "code",
   "execution_count": 2,
   "metadata": {
    "hide_input": false,
    "slideshow": {
     "slide_type": "-"
    },
    "tags": []
   },
   "outputs": [],
   "source": [
    "from cyllene import *\n",
    "%initialize activity_22_5_01"
   ]
  },
  {
   "cell_type": "markdown",
   "metadata": {},
   "source": [
    "# Activity 5 - Exponential and Logarithmic Functions"
   ]
  },
  {
   "cell_type": "markdown",
   "metadata": {},
   "source": [
    "## Part 1 - Review of one-to-one functions and inverse functions"
   ]
  },
  {
   "cell_type": "markdown",
   "metadata": {},
   "source": [
    "### Introduction\n",
    "\n",
    "Recall what is meant by a one-to-one function. Given a function, we say that it is one-to-one if every element in the range of the function corresponds to only one element in the domain of a function.   That is, given a function $f(x)$, \n",
    "\n",
    "> if $f(x_1) = f(x_2)$, then $x_1 = x_2$.  \n",
    "\n",
    "(If the output was the same, then the input must have been the same.)\n",
    "\n",
    "Consider the following three functions, two of the functions are one-to-one functions; which one is NOT a one-to-one function?\n",
    "\n",
    "> 1. $f(x) = x + 2$ with domain $x \\in (-\\infty, \\infty )$\n",
    "> 2. $g(x) = x^2$ with domain $x \\in (-\\infty, \\infty )$\n",
    "> 3. $h(x) = x^2$ with domain $x \\in [0, \\infty)$\n",
    "\n",
    "In the past, you may have sketched the functions and employed the \"horizontal line test\" to determine whether or not the function was one-to-one. That is, if a horizontal line intersected the graph in more then one point, then the function was not one-to-one."
   ]
  },
  {
   "cell_type": "markdown",
   "metadata": {},
   "source": [
    "Upon sketching the first function, $y=f(x)$, we see it is a line with slope $m=1$.\n",
    "\n",
    "Any horizontal line will cross this sketch in exactly one spot. \n",
    "\n",
    "In fact, given any value in the range of the function, for example $y=10$, we can calculate the corresponding $x$ value that gets mapped to it; that is, if $x+2=10$, then $x = 10-2 = 8$. [Note $f(8) = 10$]"
   ]
  },
  {
   "cell_type": "code",
   "execution_count": 2,
   "metadata": {
    "tags": []
   },
   "outputs": [
    {
     "data": {
      "image/png": "[encoded data removed]",
      "text/plain": [
       "<Figure size 432x288 with 1 Axes>"
      ]
     },
     "metadata": {
      "needs_background": "light"
     },
     "output_type": "display_data"
    }
   ],
   "source": [
    "plot(f, (x,-12,12));"
   ]
  },
  {
   "cell_type": "markdown",
   "metadata": {},
   "source": [
    "On first glance, it may appear the the next two functions are the same; however, it is important to remember that associated with any functional definition is the domain of the function.  Even though $g(x)=x^2$ and $h(x)=x^2$, the domains are different, thus they are really two different functions.  The function $g(x)$ defined on all real numbers is NOT a one-to-one function. \n",
    "\n",
    "A counter example would be $g(-2) = (-2)^2 = 4$ and $g(2) = 2^2 = 4$.  Given an output, $y=4$, we have two inputs from the domain, $x_1= -2$ and $x_2=2$ that get mapped to $y=4$.  Sketch the parabola $y=x^2$ from $x=-3$ to $x=3$ and verify that the horizontal line, $y=4$, intersects the graph at two points, $(-2, 4)$ and $(2, 4)$.  Thus the function $g(x)$ as defined is NOT a one-to-one function.\n",
    "\n"
   ]
  },
  {
   "cell_type": "code",
   "execution_count": null,
   "metadata": {
    "tags": []
   },
   "outputs": [],
   "source": [
    "G_g.show();"
   ]
  },
  {
   "cell_type": "markdown",
   "metadata": {},
   "source": [
    "However, if you restrict your domain to just $x \\ge 0$, the \"sketch\" of the function will only be the right half of the parabola you sketched.  The horizontal line $y=4$ will only cross the graph in one place.  In fact, any horizontal line $y=k$ where $k>0$ will pass through the right half of parabola exactly once.  The third function is a one-to-one function."
   ]
  },
  {
   "cell_type": "code",
   "execution_count": null,
   "metadata": {
    "tags": []
   },
   "outputs": [],
   "source": [
    "G_h.show();"
   ]
  },
  {
   "cell_type": "markdown",
   "metadata": {},
   "source": [
    "### The consequence of a one-to-one determination: The existence of an inverse function!"
   ]
  },
  {
   "cell_type": "markdown",
   "metadata": {},
   "source": [
    "If a function is one-to-one, then an inverse *function* exists.  For $f(x) = x + 2$ with domain $x \\in (-\\infty, \\infty )$, we may write out the inverse function by writing $y = x + 2$ and solving for $x$, that is, $x = y-2$, which represents the inverse function, written $f^{-1}(y) = y-2$. Employing the forward function, $f(8) = 8+2 = 10$. Then, the inverse, $f^{-1}(10) = 10-2 = 8$, takes us back!\n",
    "\n",
    "For the function $h(x) = x^2$ with domain $x \\in [0, \\infty)$, we can do a similar process to determine the inverse function.  We let $y = x^2$ and solve for $x$ to get $x = \\sqrt{y}$ and $x = -\\sqrt{y}$. However, since we restricted the domain of $h(x)$ to be $x \\ge 0$, we need only consider the positive square root and $h^{-1}(y) = \\sqrt{y}$.  \n",
    "\n",
    "Notice of the second function from the Introduction, $g(x)$, since the domain was not resricted, the inverse process is not a \"functional\" process; for example, if $y=4$, going in reverse, there are two $x$-values associated with it, $x=-\\sqrt{4}=-2$ and $x=\\sqrt{4}=2$ (the horizontal line test).\n",
    "\n",
    "In short, given $y = f(x)$, then $x = f^{-1}(y)$.  Also note that the domain of the forward function $f(x)$ is the range of the inverse function, and the range of $f(x)$ is the domain of the inverse function."
   ]
  },
  {
   "cell_type": "markdown",
   "metadata": {},
   "source": [
    "### A note on notation. \n",
    "\n",
    "Given $f(x) = x+2$, in lieu of writing $f^{-1}(y) = y-2$, since the variable $y$ represents the input and $y-2$ is the rule (what to do with the input), often the inverse is also written with the dummy variable $x$, that is, $f^{-1}(x) = x-2$.  However, the \"$x$\" in $f(x)$ and the \"$x$\" in $f^{-1}(x)$ represent two different quantities, most often with different units.  \n"
   ]
  },
  {
   "cell_type": "markdown",
   "metadata": {},
   "source": [
    "### Explore the outputs of a basic exponential function\n",
    "\n",
    "Consider the function $f(x) = 2^x$ defined on $(-\\infty, \\infty)$"
   ]
  },
  {
   "cell_type": "markdown",
   "metadata": {},
   "source": [
    "## Exercise"
   ]
  },
  {
   "cell_type": "code",
   "execution_count": 3,
   "metadata": {
    "scrolled": true
   },
   "outputs": [
    {
     "data": {
      "text/markdown": [
       "### Problem 1"
      ],
      "text/plain": [
       "<IPython.core.display.Markdown object>"
      ]
     },
     "metadata": {},
     "output_type": "display_data"
    },
    {
     "data": {
      "text/markdown": [
       "Compute the following values of $f(x) = 2^x$:"
      ],
      "text/plain": [
       "<IPython.core.display.Markdown object>"
      ]
     },
     "metadata": {},
     "output_type": "display_data"
    },
    {
     "data": {
      "text/markdown": [
       "**(1)** $\\quad$$f(-2)$"
      ],
      "text/plain": [
       "<IPython.core.display.Markdown object>"
      ]
     },
     "metadata": {},
     "output_type": "display_data"
    },
    {
     "data": {
      "text/markdown": [
       "**(2)** $\\quad$$f(-1)$"
      ],
      "text/plain": [
       "<IPython.core.display.Markdown object>"
      ]
     },
     "metadata": {},
     "output_type": "display_data"
    },
    {
     "data": {
      "text/markdown": [
       "**(3)** $\\quad$$f(0)$"
      ],
      "text/plain": [
       "<IPython.core.display.Markdown object>"
      ]
     },
     "metadata": {},
     "output_type": "display_data"
    },
    {
     "data": {
      "text/markdown": [
       "**(4)** $\\quad$$f(1)$"
      ],
      "text/plain": [
       "<IPython.core.display.Markdown object>"
      ]
     },
     "metadata": {},
     "output_type": "display_data"
    },
    {
     "data": {
      "text/markdown": [
       "**(5)** $\\quad$$f(2)$"
      ],
      "text/plain": [
       "<IPython.core.display.Markdown object>"
      ]
     },
     "metadata": {},
     "output_type": "display_data"
    },
    {
     "data": {
      "text/markdown": [
       "*Enter the answer(s) in the cell below.*"
      ],
      "text/plain": [
       "<IPython.core.display.Markdown object>"
      ]
     },
     "metadata": {},
     "output_type": "display_data"
    }
   ],
   "source": [
    "%problem 1"
   ]
  },
  {
   "cell_type": "code",
   "execution_count": null,
   "metadata": {},
   "outputs": [],
   "source": [
    "%%answer Problem 1\n",
    "(1): \n",
    "(2): \n",
    "(3): \n",
    "(4): \n",
    "(5): "
   ]
  },
  {
   "cell_type": "markdown",
   "metadata": {},
   "source": [
    "## Exercise\n",
    "\n",
    "Below is a plot of the function $f(x) = 2^x$. Use the horizontal line test to determine if the function is one-to-one."
   ]
  },
  {
   "cell_type": "code",
   "execution_count": null,
   "metadata": {
    "tags": []
   },
   "outputs": [],
   "source": [
    "plot(f_exp(x), (x,-3,3));\n",
    "%problem 2"
   ]
  },
  {
   "cell_type": "code",
   "execution_count": null,
   "metadata": {},
   "outputs": [],
   "source": [
    "%%answer Problem 2\n"
   ]
  },
  {
   "cell_type": "markdown",
   "metadata": {},
   "source": [
    "Since the function $f(x) = 2^x$ is one-to-one, we know that a unique inverse function exists.  We can't just write $y = 2^x$ and \"solve for $x$\", we need new notation to depict this new function.\n",
    "\n",
    "> If $f(x) = 2^x$, then $f^{-1}(y) = \\log_2(y)$.\n",
    "\n",
    "In the graph above, consider the horizontal line through $y=4$ on the vertical axis and a vertical line through $x=2$ on the horizontal axis and note that it intersects the curve at the point $(2, 4)$.  This may be interpreted as $2^2=4$ or as $\\log_2(4) = 2$\n",
    "\n",
    "Using this idea, confirm the following values of $\\log_2(y)$: "
   ]
  },
  {
   "cell_type": "code",
   "execution_count": null,
   "metadata": {},
   "outputs": [],
   "source": [
    "%problem 3"
   ]
  },
  {
   "cell_type": "markdown",
   "metadata": {},
   "source": [
    "### Closing Considerations\n",
    "\n",
    ">1. If $y  = b^x$, where wher the base $b>0$ and $b \\neq 1$, then $x = \\log_b (y)$; that is, given $y = f(x)$, then $x = f^{-1}(y)$.\n",
    "\n",
    ">2. Note that the domain (valid input values) of $f(x) = 2^x$ is $(-\\infty, \\infty)$, but the range (outputs) of $f(x) = 2^x > 0$.  \n",
    "This implies the domain of $f^{-1}(x) = \\log_2(x)$ is $x>0$ (See the note on notation above).  \n",
    "In general, the only valid input value into $\\log_b(x)$ is a value $x>0$ (e.g. the domain of the function $\\log_b(x)$ is $x>0$)\n",
    "\n",
    ">3. Since $2^0 = 1$, and in general $b^0 = 1$, we have $\\log_b(1) = 0$ regardless of base $b$."
   ]
  }
 ],
 "metadata": {
  "hide_input": false,
  "kernelspec": {
   "display_name": "Python 3",
   "language": "python",
   "name": "python3"
  },
  "language_info": {
   "codemirror_mode": {
    "name": "ipython",
    "version": 3
   },
   "file_extension": ".py",
   "mimetype": "text/x-python",
   "name": "python",
   "nbconvert_exporter": "python",
   "pygments_lexer": "ipython3",
   "version": "3.8.8"
  },
  "latex_envs": {
   "LaTeX_envs_menu_present": true,
   "autoclose": false,
   "autocomplete": true,
   "bibliofile": "biblio.bib",
   "cite_by": "apalike",
   "current_citInitial": 1,
   "eqLabelWithNumbers": true,
   "eqNumInitial": 1,
   "hotkeys": {
    "equation": "Ctrl-E",
    "itemize": "Ctrl-I"
   },
   "labels_anchors": false,
   "latex_user_defs": false,
   "report_style_numbering": false,
   "user_envs_cfg": false
  }
 },
 "nbformat": 4,
 "nbformat_minor": 4
}
