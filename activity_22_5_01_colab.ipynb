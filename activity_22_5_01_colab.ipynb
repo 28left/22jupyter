{
  "nbformat": 4,
  "nbformat_minor": 0,
  "metadata": {
    "hide_input": false,
    "kernelspec": {
      "display_name": "Python 3",
      "language": "python",
      "name": "python3"
    },
    "language_info": {
      "codemirror_mode": {
        "name": "ipython",
        "version": 3
      },
      "file_extension": ".py",
      "mimetype": "text/x-python",
      "name": "python",
      "nbconvert_exporter": "python",
      "pygments_lexer": "ipython3",
      "version": "3.8.8"
    },
    "latex_envs": {
      "LaTeX_envs_menu_present": true,
      "autoclose": false,
      "autocomplete": true,
      "bibliofile": "biblio.bib",
      "cite_by": "apalike",
      "current_citInitial": 1,
      "eqLabelWithNumbers": true,
      "eqNumInitial": 1,
      "hotkeys": {
        "equation": "Ctrl-E",
        "itemize": "Ctrl-I"
      },
      "labels_anchors": false,
      "latex_user_defs": false,
      "report_style_numbering": false,
      "user_envs_cfg": false
    },
    "colab": {
      "name": "activity_22_5_01.ipynb",
      "provenance": [],
      "include_colab_link": true
    }
  },
  "cells": [
    {
      "cell_type": "markdown",
      "metadata": {
        "id": "view-in-github",
        "colab_type": "text"
      },
      "source": [
        "<a href=\"https://colab.research.google.com/github/28left/22jupyter/blob/main/activity_22_5_01_colab.ipynb\" target=\"_parent\"><img src=\"https://colab.research.google.com/assets/colab-badge.svg\" alt=\"Open In Colab\"/></a>"
      ]
    },
    {
      "cell_type": "code",
      "metadata": {
        "id": "TvzxvE3RYK75",
        "colab": {
          "base_uri": "https://localhost:8080/"
        },
        "outputId": "79da32f6-071f-460d-c74f-b538a305ae86"
      },
      "source": [
        "!pip install git+https://github.com/28left/cyllene.git"
      ],
      "execution_count": 1,
      "outputs": [
        {
          "output_type": "stream",
          "text": [
            "Collecting git+https://github.com/28left/cyllene.git\n",
            "  Cloning https://github.com/28left/cyllene.git to /tmp/pip-req-build-ytxfw2s1\n",
            "  Running command git clone -q https://github.com/28left/cyllene.git /tmp/pip-req-build-ytxfw2s1\n",
            "  Installing build dependencies ... \u001b[?25l\u001b[?25hdone\n",
            "  Getting requirements to build wheel ... \u001b[?25l\u001b[?25hdone\n",
            "    Preparing wheel metadata ... \u001b[?25l\u001b[?25hdone\n",
            "Requirement already satisfied: sympy in /usr/local/lib/python3.7/dist-packages (from cyllene==0.2) (1.7.1)\n",
            "Requirement already satisfied: numpy in /usr/local/lib/python3.7/dist-packages (from cyllene==0.2) (1.19.5)\n",
            "Requirement already satisfied: matplotlib in /usr/local/lib/python3.7/dist-packages (from cyllene==0.2) (3.2.2)\n",
            "Requirement already satisfied: mpmath>=0.19 in /usr/local/lib/python3.7/dist-packages (from sympy->cyllene==0.2) (1.2.1)\n",
            "Requirement already satisfied: kiwisolver>=1.0.1 in /usr/local/lib/python3.7/dist-packages (from matplotlib->cyllene==0.2) (1.3.1)\n",
            "Requirement already satisfied: python-dateutil>=2.1 in /usr/local/lib/python3.7/dist-packages (from matplotlib->cyllene==0.2) (2.8.1)\n",
            "Requirement already satisfied: cycler>=0.10 in /usr/local/lib/python3.7/dist-packages (from matplotlib->cyllene==0.2) (0.10.0)\n",
            "Requirement already satisfied: pyparsing!=2.0.4,!=2.1.2,!=2.1.6,>=2.0.1 in /usr/local/lib/python3.7/dist-packages (from matplotlib->cyllene==0.2) (2.4.7)\n",
            "Requirement already satisfied: six>=1.5 in /usr/local/lib/python3.7/dist-packages (from python-dateutil>=2.1->matplotlib->cyllene==0.2) (1.15.0)\n",
            "Building wheels for collected packages: cyllene\n",
            "  Building wheel for cyllene (PEP 517) ... \u001b[?25l\u001b[?25hdone\n",
            "  Created wheel for cyllene: filename=cyllene-0.2-cp37-none-any.whl size=27527 sha256=d21451174b843beac45ba734c3fe5e7ce9c26593d878e838a739b5e6ebb450c3\n",
            "  Stored in directory: /tmp/pip-ephem-wheel-cache-5q12d4bt/wheels/3e/18/73/4a45f074bb2820233eda690ac5f87b9c9f140d5442aa3fde8c\n",
            "Successfully built cyllene\n",
            "Installing collected packages: cyllene\n",
            "Successfully installed cyllene-0.2\n"
          ],
          "name": "stdout"
        }
      ]
    },
    {
      "cell_type": "code",
      "metadata": {
        "id": "Wt6_o56MbPIR",
        "colab": {
          "base_uri": "https://localhost:8080/",
          "height": 667
        },
        "outputId": "aa4e75d2-963b-4d83-a49a-7e1421553252"
      },
      "source": [
        "!pip install \"ipython>=7\""
      ],
      "execution_count": 2,
      "outputs": [
        {
          "output_type": "stream",
          "text": [
            "Collecting ipython>=7\n",
            "\u001b[?25l  Downloading https://files.pythonhosted.org/packages/c9/b1/82cbe2b856386f44f37fdae54d9b425813bd86fe33385c9d658d64826098/ipython-7.22.0-py3-none-any.whl (785kB)\n",
            "\r\u001b[K     |▍                               | 10kB 13.0MB/s eta 0:00:01\r\u001b[K     |▉                               | 20kB 17.6MB/s eta 0:00:01\r\u001b[K     |█▎                              | 30kB 15.1MB/s eta 0:00:01\r\u001b[K     |█▊                              | 40kB 13.7MB/s eta 0:00:01\r\u001b[K     |██                              | 51kB 9.8MB/s eta 0:00:01\r\u001b[K     |██▌                             | 61kB 9.9MB/s eta 0:00:01\r\u001b[K     |███                             | 71kB 8.2MB/s eta 0:00:01\r\u001b[K     |███▍                            | 81kB 8.9MB/s eta 0:00:01\r\u001b[K     |███▊                            | 92kB 8.5MB/s eta 0:00:01\r\u001b[K     |████▏                           | 102kB 8.7MB/s eta 0:00:01\r\u001b[K     |████▋                           | 112kB 8.7MB/s eta 0:00:01\r\u001b[K     |█████                           | 122kB 8.7MB/s eta 0:00:01\r\u001b[K     |█████▍                          | 133kB 8.7MB/s eta 0:00:01\r\u001b[K     |█████▉                          | 143kB 8.7MB/s eta 0:00:01\r\u001b[K     |██████▎                         | 153kB 8.7MB/s eta 0:00:01\r\u001b[K     |██████▊                         | 163kB 8.7MB/s eta 0:00:01\r\u001b[K     |███████                         | 174kB 8.7MB/s eta 0:00:01\r\u001b[K     |███████▌                        | 184kB 8.7MB/s eta 0:00:01\r\u001b[K     |████████                        | 194kB 8.7MB/s eta 0:00:01\r\u001b[K     |████████▍                       | 204kB 8.7MB/s eta 0:00:01\r\u001b[K     |████████▊                       | 215kB 8.7MB/s eta 0:00:01\r\u001b[K     |█████████▏                      | 225kB 8.7MB/s eta 0:00:01\r\u001b[K     |█████████▋                      | 235kB 8.7MB/s eta 0:00:01\r\u001b[K     |██████████                      | 245kB 8.7MB/s eta 0:00:01\r\u001b[K     |██████████▍                     | 256kB 8.7MB/s eta 0:00:01\r\u001b[K     |██████████▉                     | 266kB 8.7MB/s eta 0:00:01\r\u001b[K     |███████████▎                    | 276kB 8.7MB/s eta 0:00:01\r\u001b[K     |███████████▊                    | 286kB 8.7MB/s eta 0:00:01\r\u001b[K     |████████████                    | 296kB 8.7MB/s eta 0:00:01\r\u001b[K     |████████████▌                   | 307kB 8.7MB/s eta 0:00:01\r\u001b[K     |█████████████                   | 317kB 8.7MB/s eta 0:00:01\r\u001b[K     |█████████████▍                  | 327kB 8.7MB/s eta 0:00:01\r\u001b[K     |█████████████▊                  | 337kB 8.7MB/s eta 0:00:01\r\u001b[K     |██████████████▏                 | 348kB 8.7MB/s eta 0:00:01\r\u001b[K     |██████████████▋                 | 358kB 8.7MB/s eta 0:00:01\r\u001b[K     |███████████████                 | 368kB 8.7MB/s eta 0:00:01\r\u001b[K     |███████████████▍                | 378kB 8.7MB/s eta 0:00:01\r\u001b[K     |███████████████▉                | 389kB 8.7MB/s eta 0:00:01\r\u001b[K     |████████████████▎               | 399kB 8.7MB/s eta 0:00:01\r\u001b[K     |████████████████▊               | 409kB 8.7MB/s eta 0:00:01\r\u001b[K     |█████████████████▏              | 419kB 8.7MB/s eta 0:00:01\r\u001b[K     |█████████████████▌              | 430kB 8.7MB/s eta 0:00:01\r\u001b[K     |██████████████████              | 440kB 8.7MB/s eta 0:00:01\r\u001b[K     |██████████████████▍             | 450kB 8.7MB/s eta 0:00:01\r\u001b[K     |██████████████████▉             | 460kB 8.7MB/s eta 0:00:01\r\u001b[K     |███████████████████▏            | 471kB 8.7MB/s eta 0:00:01\r\u001b[K     |███████████████████▋            | 481kB 8.7MB/s eta 0:00:01\r\u001b[K     |████████████████████            | 491kB 8.7MB/s eta 0:00:01\r\u001b[K     |████████████████████▌           | 501kB 8.7MB/s eta 0:00:01\r\u001b[K     |████████████████████▉           | 512kB 8.7MB/s eta 0:00:01\r\u001b[K     |█████████████████████▎          | 522kB 8.7MB/s eta 0:00:01\r\u001b[K     |█████████████████████▊          | 532kB 8.7MB/s eta 0:00:01\r\u001b[K     |██████████████████████▏         | 542kB 8.7MB/s eta 0:00:01\r\u001b[K     |██████████████████████▌         | 552kB 8.7MB/s eta 0:00:01\r\u001b[K     |███████████████████████         | 563kB 8.7MB/s eta 0:00:01\r\u001b[K     |███████████████████████▍        | 573kB 8.7MB/s eta 0:00:01\r\u001b[K     |███████████████████████▉        | 583kB 8.7MB/s eta 0:00:01\r\u001b[K     |████████████████████████▏       | 593kB 8.7MB/s eta 0:00:01\r\u001b[K     |████████████████████████▋       | 604kB 8.7MB/s eta 0:00:01\r\u001b[K     |█████████████████████████       | 614kB 8.7MB/s eta 0:00:01\r\u001b[K     |█████████████████████████▌      | 624kB 8.7MB/s eta 0:00:01\r\u001b[K     |█████████████████████████▉      | 634kB 8.7MB/s eta 0:00:01\r\u001b[K     |██████████████████████████▎     | 645kB 8.7MB/s eta 0:00:01\r\u001b[K     |██████████████████████████▊     | 655kB 8.7MB/s eta 0:00:01\r\u001b[K     |███████████████████████████▏    | 665kB 8.7MB/s eta 0:00:01\r\u001b[K     |███████████████████████████▌    | 675kB 8.7MB/s eta 0:00:01\r\u001b[K     |████████████████████████████    | 686kB 8.7MB/s eta 0:00:01\r\u001b[K     |████████████████████████████▍   | 696kB 8.7MB/s eta 0:00:01\r\u001b[K     |████████████████████████████▉   | 706kB 8.7MB/s eta 0:00:01\r\u001b[K     |█████████████████████████████▏  | 716kB 8.7MB/s eta 0:00:01\r\u001b[K     |█████████████████████████████▋  | 727kB 8.7MB/s eta 0:00:01\r\u001b[K     |██████████████████████████████  | 737kB 8.7MB/s eta 0:00:01\r\u001b[K     |██████████████████████████████▌ | 747kB 8.7MB/s eta 0:00:01\r\u001b[K     |██████████████████████████████▉ | 757kB 8.7MB/s eta 0:00:01\r\u001b[K     |███████████████████████████████▎| 768kB 8.7MB/s eta 0:00:01\r\u001b[K     |███████████████████████████████▊| 778kB 8.7MB/s eta 0:00:01\r\u001b[K     |████████████████████████████████| 788kB 8.7MB/s \n",
            "\u001b[?25hRequirement already satisfied: decorator in /usr/local/lib/python3.7/dist-packages (from ipython>=7) (4.4.2)\n",
            "Requirement already satisfied: pickleshare in /usr/local/lib/python3.7/dist-packages (from ipython>=7) (0.7.5)\n",
            "Requirement already satisfied: traitlets>=4.2 in /usr/local/lib/python3.7/dist-packages (from ipython>=7) (5.0.5)\n",
            "Requirement already satisfied: pexpect>4.3; sys_platform != \"win32\" in /usr/local/lib/python3.7/dist-packages (from ipython>=7) (4.8.0)\n",
            "Requirement already satisfied: jedi>=0.16 in /usr/local/lib/python3.7/dist-packages (from ipython>=7) (0.18.0)\n",
            "Requirement already satisfied: pygments in /usr/local/lib/python3.7/dist-packages (from ipython>=7) (2.6.1)\n",
            "Requirement already satisfied: setuptools>=18.5 in /usr/local/lib/python3.7/dist-packages (from ipython>=7) (54.2.0)\n",
            "Collecting prompt-toolkit!=3.0.0,!=3.0.1,<3.1.0,>=2.0.0\n",
            "\u001b[?25l  Downloading https://files.pythonhosted.org/packages/eb/e6/4b4ca4fa94462d4560ba2f4e62e62108ab07be2e16a92e594e43b12d3300/prompt_toolkit-3.0.18-py3-none-any.whl (367kB)\n",
            "\u001b[K     |████████████████████████████████| 368kB 17.0MB/s \n",
            "\u001b[?25hRequirement already satisfied: backcall in /usr/local/lib/python3.7/dist-packages (from ipython>=7) (0.2.0)\n",
            "Requirement already satisfied: ipython-genutils in /usr/local/lib/python3.7/dist-packages (from traitlets>=4.2->ipython>=7) (0.2.0)\n",
            "Requirement already satisfied: ptyprocess>=0.5 in /usr/local/lib/python3.7/dist-packages (from pexpect>4.3; sys_platform != \"win32\"->ipython>=7) (0.7.0)\n",
            "Requirement already satisfied: parso<0.9.0,>=0.8.0 in /usr/local/lib/python3.7/dist-packages (from jedi>=0.16->ipython>=7) (0.8.2)\n",
            "Requirement already satisfied: wcwidth in /usr/local/lib/python3.7/dist-packages (from prompt-toolkit!=3.0.0,!=3.0.1,<3.1.0,>=2.0.0->ipython>=7) (0.2.5)\n",
            "\u001b[31mERROR: jupyter-console 5.2.0 has requirement prompt-toolkit<2.0.0,>=1.0.0, but you'll have prompt-toolkit 3.0.18 which is incompatible.\u001b[0m\n",
            "\u001b[31mERROR: google-colab 1.0.0 has requirement ipython~=5.5.0, but you'll have ipython 7.22.0 which is incompatible.\u001b[0m\n",
            "Installing collected packages: prompt-toolkit, ipython\n",
            "  Found existing installation: prompt-toolkit 1.0.18\n",
            "    Uninstalling prompt-toolkit-1.0.18:\n",
            "      Successfully uninstalled prompt-toolkit-1.0.18\n",
            "  Found existing installation: ipython 5.5.0\n",
            "    Uninstalling ipython-5.5.0:\n",
            "      Successfully uninstalled ipython-5.5.0\n",
            "Successfully installed ipython-7.22.0 prompt-toolkit-3.0.18\n"
          ],
          "name": "stdout"
        },
        {
          "output_type": "display_data",
          "data": {
            "application/vnd.colab-display-data+json": {
              "pip_warning": {
                "packages": [
                  "IPython",
                  "prompt_toolkit"
                ]
              }
            }
          },
          "metadata": {
            "tags": []
          }
        }
      ]
    },
    {
      "cell_type": "code",
      "metadata": {
        "id": "OMLVknKvZDA3"
      },
      "source": [
        "import cyllene\n",
        "from cyllene import *\n",
        "import sympy as sp\n",
        "from sympy import plot\n",
        "\n",
        "\n",
        "f = expression('x+2')\n",
        "\n",
        "g = expression('x^2')\n",
        "G_g = plot(g, (x, -3, 3), show=False)\n",
        "line = plot(4, (x, -5, 5), line_color='red',show=False)\n",
        "G_g.extend(line)\n",
        "\n",
        "G_h = plot(g, (x, 0, 3), show=False)\n",
        "line = plot(4, (x, 0, 4), line_color='red',show=False)\n",
        "G_h.extend(line)\n",
        "\n",
        "f_exp = function('2^x')\n",
        "P_1 = cyllene.pp.ExpressionProblem('1',\n",
        "                        'Compute the following values of $f(x) = 2^x$:', \n",
        "                        5,\n",
        "                        ['$f(-2)$', '$f(-1)$', '$f(0)$', '$f(1)$', '$f(2)$'],\n",
        "                        'numerical',\n",
        "                        [f_exp(-2), f_exp(-1), f_exp(0), f_exp(1), f_exp(2)]\n",
        "                       )\n",
        "ProbStack.add(P_1)\n",
        "\n",
        "P_2 = cyllene.pp.TrueFalse('2', \"The function $f(x) = 2^x$ is one-to-one\", True)\n",
        "ProbStack.add(P_2)\n",
        "\n",
        "f_log = function('log(x,2)')\n",
        "P_3 = cyllene.pp.ExpressionProblem('3',\n",
        "                        'Compute the following values of $f(x) = \\\\log_2(x)$:', \n",
        "                        3,\n",
        "                        ['$f(2)$', '$f(1)$', '$f(1/2)$'],\n",
        "                        'numerical',\n",
        "                        [f_log(2), f_log(1), sp.N(f_log(1/2))]\n",
        "                       )\n",
        "ProbStack.add(P_3)"
      ],
      "execution_count": 1,
      "outputs": []
    },
    {
      "cell_type": "markdown",
      "metadata": {
        "id": "g483F0XKYJT5"
      },
      "source": [
        "# Activity 5 - Exponential and Logarithmic Functions"
      ]
    },
    {
      "cell_type": "markdown",
      "metadata": {
        "id": "GMtz6KeMYJT6"
      },
      "source": [
        "## Part 1 - Review of one-to-one functions and inverse functions"
      ]
    },
    {
      "cell_type": "markdown",
      "metadata": {
        "id": "s64-jE33YJT6"
      },
      "source": [
        "### Introduction\n",
        "\n",
        "Recall what is meant by a one-to-one function. Given a function, we say that it is one-to-one if every element in the range of the function corresponds to only one element in the domain of a function.   That is, given a function $f(x)$, \n",
        "\n",
        "> if $f(x_1) = f(x_2)$, then $x_1 = x_2$.  \n",
        "\n",
        "(If the output was the same, then the input must have been the same.)\n",
        "\n",
        "Consider the following three functions, two of the functions are one-to-one functions; which one is NOT a one-to-one function?\n",
        "\n",
        "> 1. $f(x) = x + 2$ with domain $x \\in (-\\infty, \\infty )$\n",
        "> 2. $g(x) = x^2$ with domain $x \\in (-\\infty, \\infty )$\n",
        "> 3. $h(x) = x^2$ with domain $x \\in [0, \\infty)$\n",
        "\n",
        "In the past, you may have sketched the functions and employed the \"horizontal line test\" to determine whether or not the function was one-to-one. That is, if a horizontal line intersected the graph in more then one point, then the function was not one-to-one."
      ]
    },
    {
      "cell_type": "markdown",
      "metadata": {
        "id": "cXmnfo8kYJT6"
      },
      "source": [
        "Upon sketching the first function, $y=f(x)$, we see it is a line with slope $m=1$.\n",
        "\n",
        "Any horizontal line will cross this sketch in exactly one spot. \n",
        "\n",
        "In fact, given any value in the range of the function, for example $y=10$, we can calculate the corresponding $x$ value that gets mapped to it; that is, if $x+2=10$, then $x = 10-2 = 8$. [Note $f(8) = 10$]"
      ]
    },
    {
      "cell_type": "code",
      "metadata": {
        "tags": [],
        "id": "-yFcZ1kAYJT6",
        "colab": {
          "base_uri": "https://localhost:8080/",
          "height": 297
        },
        "outputId": "d995e18a-8741-4a91-a9e4-9f06f287dc5d"
      },
      "source": [
        "plot(f, (x,-12,12));"
      ],
      "execution_count": 2,
      "outputs": [
        {
          "output_type": "display_data",
          "data": {
            "image/png": "[encoded data removed]",
            "text/plain": [
              "<Figure size 432x288 with 1 Axes>"
            ]
          },
          "metadata": {
            "tags": [],
            "needs_background": "light"
          }
        }
      ]
    },
    {
      "cell_type": "markdown",
      "metadata": {
        "id": "7OMBn2IpYJT7"
      },
      "source": [
        "On first glance, it may appear the the next two functions are the same; however, it is important to remember that associated with any functional definition is the domain of the function.  Even though $g(x)=x^2$ and $h(x)=x^2$, the domains are different, thus they are really two different functions.  The function $g(x)$ defined on all real numbers is NOT a one-to-one function. \n",
        "\n",
        "A counter example would be $g(-2) = (-2)^2 = 4$ and $g(2) = 2^2 = 4$.  Given an output, $y=4$, we have two inputs from the domain, $x_1= -2$ and $x_2=2$ that get mapped to $y=4$.  Sketch the parabola $y=x^2$ from $x=-3$ to $x=3$ and verify that the horizontal line, $y=4$, intersects the graph at two points, $(-2, 4)$ and $(2, 4)$.  Thus the function $g(x)$ as defined is NOT a one-to-one function.\n",
        "\n"
      ]
    },
    {
      "cell_type": "code",
      "metadata": {
        "tags": [],
        "id": "cuCCrs5sYJT7",
        "colab": {
          "base_uri": "https://localhost:8080/",
          "height": 296
        },
        "outputId": "2babaf2a-6a3f-4da3-824f-d748b6ab348e"
      },
      "source": [
        "G_g.show();"
      ],
      "execution_count": 3,
      "outputs": [
        {
          "output_type": "display_data",
          "data": {
            "image/png": "[encoded data removed]",
            "text/plain": [
              "<Figure size 432x288 with 1 Axes>"
            ]
          },
          "metadata": {
            "tags": [],
            "needs_background": "light"
          }
        }
      ]
    },
    {
      "cell_type": "markdown",
      "metadata": {
        "id": "c7Kj9qL2YJT7"
      },
      "source": [
        "However, if you restrict your domain to just $x \\ge 0$, the \"sketch\" of the function will only be the right half of the parabola you sketched.  The horizontal line $y=4$ will only cross the graph in one place.  In fact, any horizontal line $y=k$ where $k>0$ will pass through the right half of parabola exactly once.  The third function is a one-to-one function."
      ]
    },
    {
      "cell_type": "code",
      "metadata": {
        "tags": [],
        "id": "HTrqXWc9YJT8",
        "colab": {
          "base_uri": "https://localhost:8080/",
          "height": 296
        },
        "outputId": "f8e26595-92a1-455a-8041-17d37d404971"
      },
      "source": [
        "G_h.show();"
      ],
      "execution_count": 4,
      "outputs": [
        {
          "output_type": "display_data",
          "data": {
            "image/png": "[encoded data removed]",
            "text/plain": [
              "<Figure size 432x288 with 1 Axes>"
            ]
          },
          "metadata": {
            "tags": [],
            "needs_background": "light"
          }
        }
      ]
    },
    {
      "cell_type": "markdown",
      "metadata": {
        "id": "xIPglqBuYJT8"
      },
      "source": [
        "### The consequence of a one-to-one determination: The existence of an inverse function!"
      ]
    },
    {
      "cell_type": "markdown",
      "metadata": {
        "id": "xnVg-hYeYJT8"
      },
      "source": [
        "If a function is one-to-one, then an inverse *function* exists.  For $f(x) = x + 2$ with domain $x \\in (-\\infty, \\infty )$, we may write out the inverse function by writing $y = x + 2$ and solving for $x$, that is, $x = y-2$, which represents the inverse function, written $f^{-1}(y) = y-2$. Employing the forward function, $f(8) = 8+2 = 10$. Then, the inverse, $f^{-1}(10) = 10-2 = 8$, takes us back!\n",
        "\n",
        "For the function $h(x) = x^2$ with domain $x \\in [0, \\infty)$, we can do a similar process to determine the inverse function.  We let $y = x^2$ and solve for $x$ to get $x = \\sqrt{y}$ and $x = -\\sqrt{y}$. However, since we restricted the domain of $h(x)$ to be $x \\ge 0$, we need only consider the positive square root and $h^{-1}(y) = \\sqrt{y}$.  \n",
        "\n",
        "Notice of the second function from the Introduction, $g(x)$, since the domain was not resricted, the inverse process is not a \"functional\" process; for example, if $y=4$, going in reverse, there are two $x$-values associated with it, $x=-\\sqrt{4}=-2$ and $x=\\sqrt{4}=2$ (the horizontal line test).\n",
        "\n",
        "In short, given $y = f(x)$, then $x = f^{-1}(y)$.  Also note that the domain of the forward function $f(x)$ is the range of the inverse function, and the range of $f(x)$ is the domain of the inverse function."
      ]
    },
    {
      "cell_type": "markdown",
      "metadata": {
        "id": "_xL1X5yAYJT8"
      },
      "source": [
        "### A note on notation. \n",
        "\n",
        "Given $f(x) = x+2$, in lieu of writing $f^{-1}(y) = y-2$, since the variable $y$ represents the input and $y-2$ is the rule (what to do with the input), often the inverse is also written with the dummy variable $x$, that is, $f^{-1}(x) = x-2$.  However, the \"$x$\" in $f(x)$ and the \"$x$\" in $f^{-1}(x)$ represent two different quantities, most often with different units.  \n"
      ]
    },
    {
      "cell_type": "markdown",
      "metadata": {
        "id": "1NNHZzHqYJT9"
      },
      "source": [
        "### Explore the outputs of a basic exponential function\n",
        "\n",
        "Consider the function $f(x) = 2^x$ defined on $(-\\infty, \\infty)$"
      ]
    },
    {
      "cell_type": "markdown",
      "metadata": {
        "id": "aijWyGBFYJT9"
      },
      "source": [
        "## Exercise"
      ]
    },
    {
      "cell_type": "code",
      "metadata": {
        "scrolled": true,
        "id": "46h07hK4YJT9",
        "colab": {
          "base_uri": "https://localhost:8080/",
          "height": 244
        },
        "outputId": "4114142a-ff73-47a9-da1a-49b01c5bda4a"
      },
      "source": [
        "%problem 1"
      ],
      "execution_count": 2,
      "outputs": [
        {
          "output_type": "display_data",
          "data": {
            "text/markdown": "### Problem 1",
            "text/plain": [
              "<IPython.core.display.Markdown object>"
            ]
          },
          "metadata": {
            "tags": []
          }
        },
        {
          "output_type": "display_data",
          "data": {
            "text/markdown": "Compute the following values of $f(x) = 2^x$:",
            "text/plain": [
              "<IPython.core.display.Markdown object>"
            ]
          },
          "metadata": {
            "tags": []
          }
        },
        {
          "output_type": "display_data",
          "data": {
            "text/markdown": "**(1)** &nbsp;&nbsp;$f(-2)$",
            "text/plain": [
              "<IPython.core.display.Markdown object>"
            ]
          },
          "metadata": {
            "tags": []
          }
        },
        {
          "output_type": "display_data",
          "data": {
            "text/markdown": "**(2)** &nbsp;&nbsp;$f(-1)$",
            "text/plain": [
              "<IPython.core.display.Markdown object>"
            ]
          },
          "metadata": {
            "tags": []
          }
        },
        {
          "output_type": "display_data",
          "data": {
            "text/markdown": "**(3)** &nbsp;&nbsp;$f(0)$",
            "text/plain": [
              "<IPython.core.display.Markdown object>"
            ]
          },
          "metadata": {
            "tags": []
          }
        },
        {
          "output_type": "display_data",
          "data": {
            "text/markdown": "**(4)** &nbsp;&nbsp;$f(1)$",
            "text/plain": [
              "<IPython.core.display.Markdown object>"
            ]
          },
          "metadata": {
            "tags": []
          }
        },
        {
          "output_type": "display_data",
          "data": {
            "text/markdown": "**(5)** &nbsp;&nbsp;$f(2)$",
            "text/plain": [
              "<IPython.core.display.Markdown object>"
            ]
          },
          "metadata": {
            "tags": []
          }
        },
        {
          "output_type": "display_data",
          "data": {
            "text/markdown": "*Enter the answer(s) in the cell below.*",
            "text/plain": [
              "<IPython.core.display.Markdown object>"
            ]
          },
          "metadata": {
            "tags": []
          }
        }
      ]
    },
    {
      "cell_type": "code",
      "metadata": {
        "id": "DeLYiD6BYJT9",
        "colab": {
          "base_uri": "https://localhost:8080/",
          "height": 175
        },
        "outputId": "738a1f8a-d9fe-4f6f-8690-a483d0d858d1"
      },
      "source": [
        "%%answer Problem 1\n",
        "(1): 1/4\n",
        "(2): 1/2\n",
        "(3): 1\n",
        "(4): 2\n",
        "(5): 4"
      ],
      "execution_count": 6,
      "outputs": [
        {
          "output_type": "display_data",
          "data": {
            "text/markdown": "You entered: <br>&#9989; &nbsp;**(1)** &nbsp;$\\displaystyle \\frac{1}{4}$ &nbsp;&nbsp; (*Correct*) <br>&#9989; &nbsp;**(2)** &nbsp;$\\displaystyle \\frac{1}{2}$ &nbsp;&nbsp; (*Correct*) <br>&#9989; &nbsp;**(3)** &nbsp;$\\displaystyle 1$ &nbsp;&nbsp; (*Correct*) <br>&#9989; &nbsp;**(4)** &nbsp;$\\displaystyle 2$ &nbsp;&nbsp; (*Correct*) <br>&#9989; &nbsp;**(5)** &nbsp;$\\displaystyle 4$ &nbsp;&nbsp; (*Correct*) <br>",
            "text/plain": [
              "<IPython.core.display.Markdown object>"
            ]
          },
          "metadata": {
            "tags": []
          }
        }
      ]
    },
    {
      "cell_type": "markdown",
      "metadata": {
        "id": "KwdoO_sXYJT-"
      },
      "source": [
        "## Exercise\n",
        "\n",
        "Below is a plot of the function $f(x) = 2^x$. Use the horizontal line test to determine if the function is one-to-one."
      ]
    },
    {
      "cell_type": "code",
      "metadata": {
        "tags": [],
        "id": "W6sTkJBKYJT-",
        "colab": {
          "base_uri": "https://localhost:8080/",
          "height": 412
        },
        "outputId": "0d497968-0acc-4302-8ac9-9face23e6666"
      },
      "source": [
        "plot(f_exp(x), (x,-3,3));\n",
        "%problem 2"
      ],
      "execution_count": 7,
      "outputs": [
        {
          "output_type": "display_data",
          "data": {
            "image/png": "[encoded data removed]",
            "text/plain": [
              "<Figure size 432x288 with 1 Axes>"
            ]
          },
          "metadata": {
            "tags": [],
            "needs_background": "light"
          }
        },
        {
          "output_type": "display_data",
          "data": {
            "text/markdown": "### Problem 2",
            "text/plain": [
              "<IPython.core.display.Markdown object>"
            ]
          },
          "metadata": {
            "tags": []
          }
        },
        {
          "output_type": "display_data",
          "data": {
            "text/markdown": "**True or False?**",
            "text/plain": [
              "<IPython.core.display.Markdown object>"
            ]
          },
          "metadata": {
            "tags": []
          }
        },
        {
          "output_type": "display_data",
          "data": {
            "text/markdown": "The function $f(x) = 2^x$ is one-to-one",
            "text/plain": [
              "<IPython.core.display.Markdown object>"
            ]
          },
          "metadata": {
            "tags": []
          }
        },
        {
          "output_type": "display_data",
          "data": {
            "text/markdown": "*Enter `T` or `F` in the cell below.*",
            "text/plain": [
              "<IPython.core.display.Markdown object>"
            ]
          },
          "metadata": {
            "tags": []
          }
        }
      ]
    },
    {
      "cell_type": "code",
      "metadata": {
        "id": "-5ULj6XwYJT-",
        "colab": {
          "base_uri": "https://localhost:8080/",
          "height": 46
        },
        "outputId": "959ac579-5e85-470d-f05e-ab4e66c5064c"
      },
      "source": [
        "%%answer Problem 2\n",
        "T"
      ],
      "execution_count": 9,
      "outputs": [
        {
          "output_type": "display_data",
          "data": {
            "text/markdown": "&#9989; &nbsp; **Correct!**",
            "text/plain": [
              "<IPython.core.display.Markdown object>"
            ]
          },
          "metadata": {
            "tags": []
          }
        }
      ]
    },
    {
      "cell_type": "markdown",
      "metadata": {
        "id": "Xxg-w6I8YJT_"
      },
      "source": [
        "Since the function $f(x) = 2^x$ is one-to-one, we know that a unique inverse function exists.  We can't just write $y = 2^x$ and \"solve for $x$\", we need new notation to depict this new function.\n",
        "\n",
        "> If $f(x) = 2^x$, then $f^{-1}(y) = \\log_2(y)$.\n",
        "\n",
        "In the graph above, consider the horizontal line through $y=4$ on the vertical axis and a vertical line through $x=2$ on the horizontal axis and note that it intersects the curve at the point $(2, 4)$.  This may be interpreted as $2^2=4$ or as $\\log_2(4) = 2$\n",
        "\n",
        "Using this idea, confirm the following values of $\\log_2(y)$: "
      ]
    },
    {
      "cell_type": "code",
      "metadata": {
        "id": "FPnXBxKqYJT_",
        "colab": {
          "base_uri": "https://localhost:8080/",
          "height": 177
        },
        "outputId": "7f080979-53f8-4a0a-867e-073c1d01bde3"
      },
      "source": [
        "%problem 3"
      ],
      "execution_count": null,
      "outputs": [
        {
          "output_type": "display_data",
          "data": {
            "text/markdown": "### Problem 3",
            "text/plain": [
              "<IPython.core.display.Markdown object>"
            ]
          },
          "metadata": {
            "tags": []
          }
        },
        {
          "output_type": "display_data",
          "data": {
            "text/markdown": "Compute the following values of $f(x) = \\log_2(x)$:",
            "text/plain": [
              "<IPython.core.display.Markdown object>"
            ]
          },
          "metadata": {
            "tags": []
          }
        },
        {
          "output_type": "display_data",
          "data": {
            "text/markdown": "**(1)** $\\quad$$f(2)$",
            "text/plain": [
              "<IPython.core.display.Markdown object>"
            ]
          },
          "metadata": {
            "tags": []
          }
        },
        {
          "output_type": "display_data",
          "data": {
            "text/markdown": "**(2)** $\\quad$$f(1)$",
            "text/plain": [
              "<IPython.core.display.Markdown object>"
            ]
          },
          "metadata": {
            "tags": []
          }
        },
        {
          "output_type": "display_data",
          "data": {
            "text/markdown": "**(3)** $\\quad$$f(1/2)$",
            "text/plain": [
              "<IPython.core.display.Markdown object>"
            ]
          },
          "metadata": {
            "tags": []
          }
        },
        {
          "output_type": "display_data",
          "data": {
            "text/markdown": "*Enter the answer(s) in the cell below.*",
            "text/plain": [
              "<IPython.core.display.Markdown object>"
            ]
          },
          "metadata": {
            "tags": []
          }
        }
      ]
    },
    {
      "cell_type": "markdown",
      "metadata": {
        "id": "289NhrobYJT_"
      },
      "source": [
        "### Closing Considerations\n",
        "\n",
        ">1. If $y  = b^x$, where wher the base $b>0$ and $b \\neq 1$, then $x = \\log_b (y)$; that is, given $y = f(x)$, then $x = f^{-1}(y)$.\n",
        "\n",
        ">2. Note that the domain (valid input values) of $f(x) = 2^x$ is $(-\\infty, \\infty)$, but the range (outputs) of $f(x) = 2^x > 0$.  \n",
        "This implies the domain of $f^{-1}(x) = \\log_2(x)$ is $x>0$ (See the note on notation above).  \n",
        "In general, the only valid input value into $\\log_b(x)$ is a value $x>0$ (e.g. the domain of the function $\\log_b(x)$ is $x>0$)\n",
        "\n",
        ">3. Since $2^0 = 1$, and in general $b^0 = 1$, we have $\\log_b(1) = 0$ regardless of base $b$."
      ]
    }
  ]
}